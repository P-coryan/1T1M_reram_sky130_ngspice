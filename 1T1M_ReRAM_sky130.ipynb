{
  "nbformat": 4,
  "nbformat_minor": 0,
  "metadata": {
    "colab": {
      "provenance": []
    },
    "kernelspec": {
      "name": "python3",
      "display_name": "Python 3"
    },
    "language_info": {
      "name": "python"
    }
  },
  "cells": [
    {
      "cell_type": "code",
      "execution_count": null,
      "metadata": {
        "colab": {
          "base_uri": "https://localhost:8080/"
        },
        "id": "mPGu2SvX91fa",
        "outputId": "f047f82e-a7ad-4483-f0db-233a4541037a"
      },
      "outputs": [
        {
          "output_type": "stream",
          "name": "stdout",
          "text": [
            "\r0% [Working]\r            \rGet:1 http://security.ubuntu.com/ubuntu focal-security InRelease [114 kB]\n",
            "\r0% [Connecting to archive.ubuntu.com (185.125.190.39)] [1 InRelease 0 B/114 kB \r0% [Connecting to archive.ubuntu.com (185.125.190.39)] [Connected to cloud.r-pr\r                                                                               \rGet:2 https://cloud.r-project.org/bin/linux/ubuntu focal-cran40/ InRelease [3,622 B]\n",
            "\r                                                                               \r0% [Waiting for headers] [Waiting for headers] [Waiting for headers]\r                                                                    \rHit:3 https://developer.download.nvidia.com/compute/cuda/repos/ubuntu2004/x86_64  InRelease\n",
            "\r                                                                    \r0% [Waiting for headers] [Waiting for headers]\r                                              \rHit:4 http://archive.ubuntu.com/ubuntu focal InRelease\n",
            "\r0% [Waiting for headers] [Waiting for headers]\r                                              \rHit:5 http://ppa.launchpad.net/c2d4u.team/c2d4u4.0+/ubuntu focal InRelease\n",
            "Get:6 http://archive.ubuntu.com/ubuntu focal-updates InRelease [114 kB]\n",
            "Hit:7 http://ppa.launchpad.net/cran/libgit2/ubuntu focal InRelease\n",
            "Get:8 http://security.ubuntu.com/ubuntu focal-security/universe amd64 Packages [1,058 kB]\n",
            "Hit:9 http://ppa.launchpad.net/deadsnakes/ppa/ubuntu focal InRelease\n",
            "Get:10 http://security.ubuntu.com/ubuntu focal-security/main amd64 Packages [2,776 kB]\n",
            "Get:11 http://archive.ubuntu.com/ubuntu focal-backports InRelease [108 kB]\n",
            "Hit:12 http://ppa.launchpad.net/graphics-drivers/ppa/ubuntu focal InRelease\n",
            "Hit:13 http://ppa.launchpad.net/ubuntugis/ppa/ubuntu focal InRelease\n",
            "Get:14 http://archive.ubuntu.com/ubuntu focal-updates/main amd64 Packages [3,255 kB]\n",
            "Get:15 http://archive.ubuntu.com/ubuntu focal-updates/universe amd64 Packages [1,354 kB]\n",
            "Fetched 8,783 kB in 2s (3,858 kB/s)\n",
            "Reading package lists... Done\n"
          ]
        }
      ],
      "source": [
        "!apt-get update\n",
        "!apt-get install libtool libxaw7-dev bison flex > install_pre.log"
      ]
    },
    {
      "cell_type": "code",
      "source": [
        "PDK_HASH = 'fa87f8f4bbcc7255b6f0c0fb506960f531ae2392'\n",
        "PDK_ROOT = '/root/.volare/volare/sky130/versions'\n",
        "PDKPATH = f'{PDK_ROOT}/sky130B'\n",
        "%env PDK_ROOT={PDK_ROOT}\n",
        "%env PDKPATH={PDKPATH}\n",
        "!pip install --upgrade --no-cache-dir volare\n",
        "!volare enable --pdk sky130 {PDK_HASH} > pdk_install.log"
      ],
      "metadata": {
        "colab": {
          "base_uri": "https://localhost:8080/"
        },
        "id": "DDe4SDvC-Jry",
        "outputId": "1607cb64-5026-48c2-eb1e-ba6ca491a024"
      },
      "execution_count": null,
      "outputs": [
        {
          "output_type": "stream",
          "name": "stdout",
          "text": [
            "env: PDK_ROOT=/root/.volare/volare/sky130/versions\n",
            "env: PDKPATH=/root/.volare/volare/sky130/versions/sky130B\n",
            "Looking in indexes: https://pypi.org/simple, https://us-python.pkg.dev/colab-wheels/public/simple/\n",
            "Collecting volare\n",
            "  Downloading volare-0.8.0-py3-none-any.whl (31 kB)\n",
            "Requirement already satisfied: click<9,>=8.0.0 in /usr/local/lib/python3.10/dist-packages (from volare) (8.1.3)\n",
            "Requirement already satisfied: pyyaml<7,>=5 in /usr/local/lib/python3.10/dist-packages (from volare) (6.0)\n",
            "Collecting rich<13,>=12 (from volare)\n",
            "  Downloading rich-12.6.0-py3-none-any.whl (237 kB)\n",
            "\u001b[2K     \u001b[90m━━━━━━━━━━━━━━━━━━━━━━━━━━━━━━━━━━━━━━\u001b[0m \u001b[32m237.5/237.5 kB\u001b[0m \u001b[31m47.1 MB/s\u001b[0m eta \u001b[36m0:00:00\u001b[0m\n",
            "\u001b[?25hRequirement already satisfied: requests<3,>=2.27.0 in /usr/local/lib/python3.10/dist-packages (from volare) (2.27.1)\n",
            "Collecting pcpp<2,>=1.2 (from volare)\n",
            "  Downloading pcpp-1.30-py2.py3-none-any.whl (91 kB)\n",
            "\u001b[2K     \u001b[90m━━━━━━━━━━━━━━━━━━━━━━━━━━━━━━━━━━━━━━━\u001b[0m \u001b[32m91.1/91.1 kB\u001b[0m \u001b[31m232.3 MB/s\u001b[0m eta \u001b[36m0:00:00\u001b[0m\n",
            "\u001b[?25hCollecting zstandard<1,>=0.19.0 (from volare)\n",
            "  Downloading zstandard-0.21.0-cp310-cp310-manylinux_2_17_x86_64.manylinux2014_x86_64.whl (2.7 MB)\n",
            "\u001b[2K     \u001b[90m━━━━━━━━━━━━━━━━━━━━━━━━━━━━━━━━━━━━━━━━\u001b[0m \u001b[32m2.7/2.7 MB\u001b[0m \u001b[31m245.9 MB/s\u001b[0m eta \u001b[36m0:00:00\u001b[0m\n",
            "\u001b[?25hRequirement already satisfied: urllib3<1.27,>=1.21.1 in /usr/local/lib/python3.10/dist-packages (from requests<3,>=2.27.0->volare) (1.26.15)\n",
            "Requirement already satisfied: certifi>=2017.4.17 in /usr/local/lib/python3.10/dist-packages (from requests<3,>=2.27.0->volare) (2022.12.7)\n",
            "Requirement already satisfied: charset-normalizer~=2.0.0 in /usr/local/lib/python3.10/dist-packages (from requests<3,>=2.27.0->volare) (2.0.12)\n",
            "Requirement already satisfied: idna<4,>=2.5 in /usr/local/lib/python3.10/dist-packages (from requests<3,>=2.27.0->volare) (3.4)\n",
            "Collecting commonmark<0.10.0,>=0.9.0 (from rich<13,>=12->volare)\n",
            "  Downloading commonmark-0.9.1-py2.py3-none-any.whl (51 kB)\n",
            "\u001b[2K     \u001b[90m━━━━━━━━━━━━━━━━━━━━━━━━━━━━━━━━━━━━━━━\u001b[0m \u001b[32m51.1/51.1 kB\u001b[0m \u001b[31m199.1 MB/s\u001b[0m eta \u001b[36m0:00:00\u001b[0m\n",
            "\u001b[?25hRequirement already satisfied: pygments<3.0.0,>=2.6.0 in /usr/local/lib/python3.10/dist-packages (from rich<13,>=12->volare) (2.14.0)\n",
            "Installing collected packages: pcpp, commonmark, zstandard, rich, volare\n",
            "  Attempting uninstall: rich\n",
            "    Found existing installation: rich 13.3.4\n",
            "    Uninstalling rich-13.3.4:\n",
            "      Successfully uninstalled rich-13.3.4\n",
            "Successfully installed commonmark-0.9.1 pcpp-1.30 rich-12.6.0 volare-0.8.0 zstandard-0.21.0\n"
          ]
        }
      ]
    },
    {
      "cell_type": "code",
      "source": [
        "!git clone git://git.code.sf.net/p/ngspice/ngspice\n",
        "!export PATH=$PATH:/content && cd ngspice && ./compile_linux.sh > ngspice_install.log 2>&1"
      ],
      "metadata": {
        "colab": {
          "base_uri": "https://localhost:8080/"
        },
        "id": "mXFFHkCBAI1s",
        "outputId": "90b5bbe1-2c1d-4adb-dd01-006f440c842a"
      },
      "execution_count": null,
      "outputs": [
        {
          "output_type": "stream",
          "name": "stdout",
          "text": [
            "Cloning into 'ngspice'...\n",
            "remote: Enumerating objects: 126475, done.\u001b[K\n",
            "remote: Counting objects: 100% (126475/126475), done.\u001b[K\n",
            "remote: Compressing objects: 100% (24804/24804), done.\u001b[K\n",
            "remote: Total 126475 (delta 103138), reused 122910 (delta 100379)\u001b[K\n",
            "Receiving objects: 100% (126475/126475), 41.06 MiB | 1.81 MiB/s, done.\n",
            "Resolving deltas: 100% (103138/103138), done.\n"
          ]
        }
      ]
    },
    {
      "cell_type": "code",
      "source": [
        "%%writefile /root/.spiceinit\n",
        "set num_threads=4\n",
        "set ngbehavior=hsa\n",
        "set ng_nomodcheck"
      ],
      "metadata": {
        "colab": {
          "base_uri": "https://localhost:8080/"
        },
        "id": "JrEnuJH6-lIb",
        "outputId": "d89e765e-3410-4656-a540-d8ebd0a22c6d"
      },
      "execution_count": null,
      "outputs": [
        {
          "output_type": "stream",
          "name": "stdout",
          "text": [
            "Overwriting /root/.spiceinit\n"
          ]
        }
      ]
    },
    {
      "cell_type": "code",
      "source": [
        "!git clone https://github.com/P-coryan/1T1M_reram_sky130_ngspice.git"
      ],
      "metadata": {
        "colab": {
          "base_uri": "https://localhost:8080/"
        },
        "id": "mJKhGpGr-tFj",
        "outputId": "4c9b020a-77e8-4c0e-8142-64093ba60f39"
      },
      "execution_count": null,
      "outputs": [
        {
          "output_type": "stream",
          "name": "stdout",
          "text": [
            "fatal: destination path '1T1M_reram_sky130_ngspice' already exists and is not an empty directory.\n"
          ]
        }
      ]
    },
    {
      "cell_type": "code",
      "source": [
        "!chmod +x 1T1M_reram_sky130_ngspice/install.sh\n",
        "!1T1M_reram_sky130_ngspice/install.sh "
      ],
      "metadata": {
        "colab": {
          "base_uri": "https://localhost:8080/"
        },
        "id": "QRRVPvl9-5zs",
        "outputId": "8f7b4637-f6ff-4ad3-b75d-12eea718ca65"
      },
      "execution_count": null,
      "outputs": [
        {
          "output_type": "stream",
          "name": "stdout",
          "text": [
            "--2023-06-09 16:50:07--  https://openva.fra1.cdn.digitaloceanspaces.com/openvaf_23_2_0_linux_amd64.tar.xz\n",
            "Resolving openva.fra1.cdn.digitaloceanspaces.com (openva.fra1.cdn.digitaloceanspaces.com)... 205.185.216.42, 205.185.216.10\n",
            "Connecting to openva.fra1.cdn.digitaloceanspaces.com (openva.fra1.cdn.digitaloceanspaces.com)|205.185.216.42|:443... connected.\n",
            "HTTP request sent, awaiting response... 200 OK\n",
            "Length: 23753116 (23M) [application/x-xz]\n",
            "Saving to: ‘openvaf_23_2_0_linux_amd64.tar.xz’\n",
            "\n",
            "\r          openvaf_2   0%[                    ]       0  --.-KB/s               \ropenvaf_23_2_0_linu 100%[===================>]  22.65M  --.-KB/s    in 0.07s   \n",
            "\n",
            "2023-06-09 16:50:07 (337 MB/s) - ‘openvaf_23_2_0_linux_amd64.tar.xz’ saved [23753116/23753116]\n",
            "\n",
            "Cloning into 'sky130_fd_pr_reram'...\n",
            "remote: Enumerating objects: 199, done.\u001b[K\n",
            "remote: Counting objects: 100% (63/63), done.\u001b[K\n",
            "remote: Compressing objects: 100% (22/22), done.\u001b[K\n",
            "remote: Total 199 (delta 48), reused 41 (delta 41), pack-reused 136\u001b[K\n",
            "Receiving objects: 100% (199/199), 3.56 MiB | 23.24 MiB/s, done.\n",
            "Resolving deltas: 100% (85/85), done.\n",
            "patching file ngspice/sky130_fd_pr_reram__reram_module.va\n",
            "\u001b[0m\u001b[1m\u001b[32mFinished\u001b[0m building sky130_fd_pr_reram__reram_module.va in 0.14s\n",
            "sed: can't read ngspice/sky130.lib.spice: No such file or directory\n"
          ]
        }
      ]
    },
    {
      "cell_type": "code",
      "source": [
        "!ngspice -b -r reram_example.raw $PDK_ROOT/sky130B/libs.tech/ngspice/CrossBar.spice"
      ],
      "metadata": {
        "colab": {
          "base_uri": "https://localhost:8080/"
        },
        "id": "Dw8gOTB4_zUu",
        "outputId": "1f71fd1f-9ba6-4cd0-c2ff-adc1ba853d6d"
      },
      "execution_count": null,
      "outputs": [
        {
          "output_type": "stream",
          "name": "stdout",
          "text": [
            "\n",
            "Note: Compatibility modes selected: hs a\n",
            "\n",
            "Warning: m=xx on .subckt line will override multiplier m hierarchy!\n",
            "\n",
            "\n",
            "Circuit: ** sch_path: /foss/designs/tesis/crossbar.sch\n",
            "\n",
            "option SCALE: Scale is set to 1e-06 for instance and model parameters\n",
            "Error: unknown subckt: x1 vhrs vlrs vdata 0 vss vdd vgnd net8 sky130_fd_sc_hd__mux2_2\n",
            "    Simulation interrupted due to error!\n",
            "\n",
            "Error: there aren't any circuits loaded.\n"
          ]
        }
      ]
    },
    {
      "cell_type": "markdown",
      "source": [
        "# Nueva sección"
      ],
      "metadata": {
        "id": "adQ7JiIjQ4l3"
      }
    }
  ]
}